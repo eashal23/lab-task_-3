{
 "cells": [
  {
   "cell_type": "code",
   "execution_count": 1,
   "id": "52e229f3",
   "metadata": {},
   "outputs": [
    {
     "name": "stdout",
     "output_type": "stream",
     "text": [
      "{'name': 'eashal', 'age': '20', 'city': 'lahore', 'hobbies': 'cooking'}\n"
     ]
    }
   ],
   "source": [
    "#                   eashal Fatima \n",
    "#                    sp25-bbd-026\n",
    "\n",
    "#a-Create a dictionary to store information about a person (name, age, city, hobbies).\n",
    "info={\n",
    "    'name':'eashal',\n",
    "    'age':'20',\n",
    "    'city':'lahore',\n",
    "    'hobbies':'cooking',\n",
    "}\n",
    "print(info)"
   ]
  },
  {
   "cell_type": "code",
   "execution_count": 2,
   "id": "95138b6a",
   "metadata": {},
   "outputs": [
    {
     "name": "stdout",
     "output_type": "stream",
     "text": [
      "fiza : 2\n"
     ]
    }
   ],
   "source": [
    "#b Write a program to count the frequency of words in a given text.\n",
    "text = input(\"Enter some text: \")\n",
    "words = text.lower().split()\n",
    "frequency = {}\n",
    "for i in words:\n",
    "    if i in frequency:\n",
    "        frequency[i] += 1\n",
    "    else:\n",
    "        frequency[i] = 1\n",
    "\n",
    "# Print word frequencies\n",
    "for i in frequency:\n",
    "    print(i, \":\", frequency[i])\n"
   ]
  },
  {
   "cell_type": "code",
   "execution_count": 3,
   "id": "3256a7b0",
   "metadata": {},
   "outputs": [
    {
     "name": "stdout",
     "output_type": "stream",
     "text": [
      "Inventory:\n",
      "pen = 10\n",
      "notebook = 5\n",
      "eraser = 3\n",
      "\n",
      "Updated Inventory:\n",
      "pen = 10\n",
      "notebook = 5\n",
      "eraser = 3\n",
      "rat = 9\n"
     ]
    }
   ],
   "source": [
    "#c.) Implement a simple inventory system using dictionaries.\n",
    "inventory = {\n",
    "    \"pen\": 10,\n",
    "    \"notebook\": 5,\n",
    "    \"eraser\": 3\n",
    "}\n",
    "\n",
    "print(\"Inventory:\")\n",
    "for i in inventory:\n",
    "    print(i, \"=\", inventory[i])\n",
    "\n",
    "item = input(\"\\nEnter item name to add: \")\n",
    "qty = int(input(\"Enter quantity: \"))\n",
    "\n",
    "inventory[item] = qty\n",
    "\n",
    "print(\"\\nUpdated Inventory:\")\n",
    "for i in inventory:\n",
    "    print(i, \"=\", inventory[i])"
   ]
  },
  {
   "cell_type": "code",
   "execution_count": 4,
   "id": "a1dd549a",
   "metadata": {},
   "outputs": [
    {
     "name": "stdout",
     "output_type": "stream",
     "text": [
      "Most popular category: Electronics\n",
      "Orders: 3\n"
     ]
    }
   ],
   "source": [
    "#d) Analyze a dataset of customer orders to find the most popular product category.\n",
    "orders = [\n",
    "    {\"customer\": \"Ali\", \"category\": \"Electronics\"},\n",
    "    {\"customer\": \"Sara\", \"category\": \"Clothing\"},\n",
    "    {\"customer\": \"Ahmed\", \"category\": \"Electronics\"},\n",
    "    {\"customer\": \"Zara\", \"category\": \"Clothing\"},\n",
    "    {\"customer\": \"Bilal\", \"category\": \"Electronics\"},\n",
    "    {\"customer\": \"Tariq\", \"category\": \"Books\"}\n",
    "]\n",
    "\n",
    "counts = {}\n",
    "\n",
    "for i in orders:\n",
    "    cat = i[\"category\"]\n",
    "    if cat in counts:\n",
    "        counts[cat] += 1\n",
    "    else:\n",
    "        counts[cat] = 1\n",
    "\n",
    "popular = \"\"\n",
    "max_count = 0\n",
    "\n",
    "for i in counts:\n",
    "    if counts[i] > max_count:\n",
    "        max_count = counts[i]\n",
    "        popular = i\n",
    "\n",
    "print(\"Most popular category:\", popular)\n",
    "print(\"Orders:\", max_count)"
   ]
  },
  {
   "cell_type": "code",
   "execution_count": 5,
   "id": "3fc8384f",
   "metadata": {},
   "outputs": [
    {
     "name": "stdout",
     "output_type": "stream",
     "text": [
      "Average grade: 86.25\n"
     ]
    }
   ],
   "source": [
    "# e) Create a dictionary to store student grades and calculate the average grade.\n",
    "grades = {\n",
    "    \"Ali\": 85,\n",
    "    \"Sara\": 90,\n",
    "    \"Ahmed\": 78,\n",
    "    \"Zara\": 92\n",
    "}\n",
    "\n",
    "total = 0\n",
    "for i in grades:\n",
    "    total += grades[i]\n",
    "\n",
    "average = total / len(grades)\n",
    "\n",
    "print(\"Average grade:\", average)"
   ]
  },
  {
   "cell_type": "code",
   "execution_count": 6,
   "id": "40eac737",
   "metadata": {},
   "outputs": [
    {
     "name": "stdout",
     "output_type": "stream",
     "text": [
      "Total inventory value: 870000\n",
      "Phone - Quantity: 4 - Price: 30000\n"
     ]
    }
   ],
   "source": [
    "#f 'Inventory Management:\n",
    "\"\"\"Create a dictionary to store product information: name, quantity, price.\n",
    "Implement functions to:\n",
    "Add new products\n",
    "Update product quantities\n",
    "Calculate total inventory value\n",
    "Generate a report of low-stock items\"\"\"\n",
    "inventory = {}\n",
    "\n",
    "def add_product(name, quantity, price):\n",
    "    if name not in inventory:\n",
    "        inventory[name] = {'quantity': quantity, 'price': price}\n",
    "\n",
    "def update_quantity(name, quantity):\n",
    "    if name in inventory:\n",
    "        inventory[name]['quantity'] += quantity\n",
    "\n",
    "def total_inventory_value():\n",
    "    return sum(item['quantity'] * item['price'] for item in inventory.values())\n",
    "\n",
    "def low_stock_report(threshold):\n",
    "    return {name: details for name, details in inventory.items() if details['quantity'] < threshold}\n",
    "\n",
    "add_product(\"Laptop\", 10, 50000)\n",
    "add_product(\"Phone\", 5, 30000)\n",
    "update_quantity(\"Laptop\", 5)\n",
    "update_quantity(\"Phone\", -1)\n",
    "\n",
    "print(f\"Total inventory value: {total_inventory_value()}\")\n",
    "\n",
    "low_stock_items = low_stock_report(6)\n",
    "if low_stock_items:\n",
    "    for name, details in low_stock_items.items():\n",
    "        print(f\"{name} - Quantity: {details['quantity']} - Price: {details['price']}\")\n",
    "else:\n",
    "    print(\"No low-stock items.\")"
   ]
  },
  {
   "cell_type": "code",
   "execution_count": 7,
   "id": "20cd9c4b",
   "metadata": {},
   "outputs": [
    {
     "name": "stdout",
     "output_type": "stream",
     "text": [
      "Alice's average grade: 85.0\n",
      "Highest and lowest grades in subject 1: (90, 85)\n",
      "Students sorted by average grade:\n",
      "Charlie: 88.0\n",
      "Bob: 86.33333333333333\n",
      "Alice: 85.0\n"
     ]
    }
   ],
   "source": [
    "#Student Gradebook:\n",
    "\"\"\"Create a dictionary to store student information: name, grades for different subjects.\n",
    "Calculate the average grade for each student.\n",
    "Find the highest and lowest grades in a specific subject.\n",
    "Sort students by their average grades.\"\"\"\n",
    "students = {}\n",
    "\n",
    "def add_student(name, grades):\n",
    "    students[name] = grades\n",
    "\n",
    "def calculate_average(name):\n",
    "    return sum(students[name]) / len(students[name])\n",
    "\n",
    "def highest_and_lowest_in_subject(subject_index):\n",
    "    grades = [student_grades[subject_index] for student_grades in students.values()]\n",
    "    return max(grades), min(grades)\n",
    "\n",
    "def sort_students_by_average():\n",
    "    return sorted(students.items(), key=lambda x: sum(x[1]) / len(x[1]), reverse=True)\n",
    "\n",
    "add_student(\"Alice\", [85, 92, 78])\n",
    "add_student(\"Bob\", [88, 76, 95])\n",
    "add_student(\"Charlie\", [90, 85, 89])\n",
    "\n",
    "print(f\"Alice's average grade: {calculate_average('Alice')}\")\n",
    "print(f\"Highest and lowest grades in subject 1: {highest_and_lowest_in_subject(0)}\")\n",
    "\n",
    "sorted_students = sort_students_by_average()\n",
    "print(\"Students sorted by average grade:\")\n",
    "for student, grades in sorted_students:\n",
    "    print(f\"{student}: {calculate_average(student)}\")"
   ]
  },
  {
   "cell_type": "code",
   "execution_count": 8,
   "id": "a2bc3748",
   "metadata": {},
   "outputs": [
    {
     "name": "stdout",
     "output_type": "stream",
     "text": [
      "Total cost before discount and tax: 2000\n",
      "Total cost after discount and tax: 1980.0\n"
     ]
    }
   ],
   "source": [
    "# Simple E-commerce Store:\n",
    "\"\"\"Create a dictionary to store product information: name, price, quantity.\n",
    "Implement a shopping cart feature where users can add and remove products.\n",
    "Calculate the total cost of items in the cart.\n",
    "Apply discounts and taxes to the total cost.\"\"\"\n",
    "store = {\n",
    "    \"Laptop\": {\"price\": 1000, \"quantity\": 10},\n",
    "    \"Phone\": {\"price\": 500, \"quantity\": 20},\n",
    "    \"Headphones\": {\"price\": 150, \"quantity\": 50}\n",
    "}\n",
    "\n",
    "cart = {}\n",
    "\n",
    "def add_to_cart(product, quantity):\n",
    "    if product in store and store[product][\"quantity\"] >= quantity:\n",
    "        if product in cart:\n",
    "            cart[product] += quantity\n",
    "        else:\n",
    "            cart[product] = quantity\n",
    "        store[product][\"quantity\"] -= quantity\n",
    "    else:\n",
    "        print(f\"Not enough stock for {product}.\")\n",
    "\n",
    "def remove_from_cart(product, quantity):\n",
    "    if product in cart and cart[product] >= quantity:\n",
    "        cart[product] -= quantity\n",
    "        store[product][\"quantity\"] += quantity\n",
    "        if cart[product] == 0:\n",
    "            del cart[product]\n",
    "    else:\n",
    "        print(f\"Not enough {product} in your cart.\")\n",
    "\n",
    "def calculate_total():\n",
    "    total = sum(store[product][\"price\"] * quantity for product, quantity in cart.items())\n",
    "    return total\n",
    "\n",
    "def apply_discount_and_tax(total, discount=0, tax_rate=0.1):\n",
    "    total_after_discount = total - (total * discount)\n",
    "    total_with_tax = total_after_discount + (total_after_discount * tax_rate)\n",
    "    return total_with_tax\n",
    "\n",
    "# Example usage\n",
    "add_to_cart(\"Laptop\", 2)\n",
    "add_to_cart(\"Phone\", 1)\n",
    "remove_from_cart(\"Phone\", 1)\n",
    "\n",
    "total_cost = calculate_total()\n",
    "final_cost = apply_discount_and_tax(total_cost, discount=0.1, tax_rate=0.1)\n",
    "\n",
    "print(f\"Total cost before discount and tax: {total_cost}\")\n",
    "print(f\"Total cost after discount and tax: {final_cost}\")"
   ]
  },
  {
   "cell_type": "code",
   "execution_count": null,
   "id": "c618e1f8",
   "metadata": {},
   "outputs": [],
   "source": []
  }
 ],
 "metadata": {
  "kernelspec": {
   "display_name": "base",
   "language": "python",
   "name": "python3"
  },
  "language_info": {
   "codemirror_mode": {
    "name": "ipython",
    "version": 3
   },
   "file_extension": ".py",
   "mimetype": "text/x-python",
   "name": "python",
   "nbconvert_exporter": "python",
   "pygments_lexer": "ipython3",
   "version": "3.12.7"
  }
 },
 "nbformat": 4,
 "nbformat_minor": 5
}
