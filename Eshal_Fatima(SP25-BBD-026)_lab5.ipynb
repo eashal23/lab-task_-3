{
 "cells": [
  {
   "cell_type": "code",
   "execution_count": null,
   "id": "0abaad97-2744-4077-8f27-0193353f6948",
   "metadata": {},
   "outputs": [],
   "source": [
    "# Eshal Fatima \n",
    "# SP25-BBD-026"
   ]
  },
  {
   "cell_type": "code",
   "execution_count": 2,
   "id": "74a7d069-65f4-4850-be7d-607e8dfe642e",
   "metadata": {},
   "outputs": [
    {
     "name": "stdout",
     "output_type": "stream",
     "text": [
      "Hello, Python Learner\n"
     ]
    }
   ],
   "source": [
    "# qno 1 \n",
    "def say_hello():\n",
    "    print(\"Hello, Python Learner\")\n",
    "say_hello()"
   ]
  },
  {
   "cell_type": "code",
   "execution_count": 3,
   "id": "dfe352f1-41e2-47fa-8133-df00e5bcbede",
   "metadata": {},
   "outputs": [
    {
     "name": "stdout",
     "output_type": "stream",
     "text": [
      "Hello, Eshal!\n"
     ]
    }
   ],
   "source": [
    "# qno 2\n",
    "def greet_user(name):\n",
    "    print(f\"Hello, {name}!\")\n",
    "greet_user(\"Eshal\")"
   ]
  },
  {
   "cell_type": "code",
   "execution_count": 4,
   "id": "d6225119-bab3-4d8b-96d4-540f58194d67",
   "metadata": {},
   "outputs": [
    {
     "name": "stdout",
     "output_type": "stream",
     "text": [
      "\n",
      "I have a hamster.\n",
      "My hamster's name is Harry.\n",
      "\n",
      "I have a dog.\n",
      "My dog's name is Buddy.\n"
     ]
    }
   ],
   "source": [
    "# qno 3\n",
    "def describe_pet(animal_type, pet_name):\n",
    "    print(f\"\\nI have a {animal_type}.\")\n",
    "    print(f\"My {animal_type}'s name is {pet_name}.\")\n",
    "describe_pet('hamster', 'Harry')\n",
    "describe_pet(animal_type='dog', pet_name='Buddy')"
   ]
  },
  {
   "cell_type": "code",
   "execution_count": 5,
   "id": "8bafba32-dd4f-4710-88bc-afe6aa8a61d5",
   "metadata": {},
   "outputs": [
    {
     "name": "stdout",
     "output_type": "stream",
     "text": [
      "\n",
      "I have a dog.\n",
      "My dog's name is Rex.\n",
      "\n",
      "I have a cat.\n",
      "My cat's name is Whiskers.\n"
     ]
    }
   ],
   "source": [
    "# qno 4\n",
    "def describe_pet(pet_name, animal_type='dog'):\n",
    "    print(f\"\\nI have a {animal_type}.\")\n",
    "    print(f\"My {animal_type}'s name is {pet_name}.\")\n",
    "describe_pet('Rex')\n",
    "describe_pet('Whiskers', 'cat')"
   ]
  },
  {
   "cell_type": "code",
   "execution_count": 7,
   "id": "1c28397a-ad67-498c-8787-111fcbec0f38",
   "metadata": {},
   "outputs": [
    {
     "name": "stdout",
     "output_type": "stream",
     "text": [
      "Eshal Fatima\n"
     ]
    }
   ],
   "source": [
    "# qno 5\n",
    "def get_formatted_name(first, last):\n",
    "    full_name = f\"{first} {last}\"\n",
    "    return full_name.title()\n",
    "name = get_formatted_name('Eshal', 'Fatima')\n",
    "print(name)\n"
   ]
  },
  {
   "cell_type": "code",
   "execution_count": 10,
   "id": "993ac5a3-a190-4378-9055-2b9827df95cf",
   "metadata": {},
   "outputs": [
    {
     "name": "stdout",
     "output_type": "stream",
     "text": [
      "Eshal Fatima\n",
      "Eshal Fatima Parvez\n"
     ]
    }
   ],
   "source": [
    "# qno 6\n",
    "def get_formatted_name(first, last, middle=''):\n",
    "    if middle:\n",
    "        full_name = f\"{first} {middle} {last}\"\n",
    "    else:\n",
    "        full_name = f\"{first} {last}\"\n",
    "    return full_name.title()\n",
    "\n",
    "# Examples\n",
    "name1 = get_formatted_name('eshal', 'fatima')\n",
    "name2 = get_formatted_name('eshal', 'parvez', 'fatima')\n",
    "print(name1)\n",
    "print(name2) "
   ]
  },
  {
   "cell_type": "code",
   "execution_count": 11,
   "id": "b7b1715d-1518-4b7d-8e3b-986a32325662",
   "metadata": {},
   "outputs": [
    {
     "name": "stdout",
     "output_type": "stream",
     "text": [
      "{'first': 'Eshal', 'last': 'Fatima'}\n",
      "{'first': 'Eshal', 'last': 'Fatima', 'age': 30}\n"
     ]
    }
   ],
   "source": [
    "# qno 7\n",
    "def build_person(first, last, age=None):\n",
    "    person = {'first': first, 'last': last}\n",
    "    if age is not None:\n",
    "        person['age'] = age\n",
    "    return person\n",
    "person1 = build_person('Eshal', 'Fatima')\n",
    "person2 = build_person('Eshal', 'Fatima', age=30)\n",
    "print(person1)  # {'first': 'Eshal', 'last': 'Fatima'}\n",
    "print(person2)  # {'first': 'Eshal', 'last': 'Fatima', 'age': 30}"
   ]
  },
  {
   "cell_type": "code",
   "execution_count": 13,
   "id": "b5d6fef8-6f6f-40ef-b017-7510394bdca9",
   "metadata": {},
   "outputs": [
    {
     "name": "stdout",
     "output_type": "stream",
     "text": [
      "Hello, Eshal!\n",
      "Hello, Fatiam!\n",
      "Hello, Parvez!\n"
     ]
    }
   ],
   "source": [
    "# qno 8\n",
    "def greet_users(usernames):\n",
    "    for name in usernames:\n",
    "        print(f\"Hello, {name.title()}!\")\n",
    "users = ['ESHAL', 'Fatiam', 'Parvez']\n",
    "greet_users(users)"
   ]
  },
  {
   "cell_type": "code",
   "execution_count": 14,
   "id": "640dd9e6-c4ff-4b1d-90e0-5463d39a196c",
   "metadata": {},
   "outputs": [
    {
     "name": "stdout",
     "output_type": "stream",
     "text": [
      "Making a pizza with the following toppings:\n",
      "- pepperoni\n",
      "- mushrooms\n",
      "- green peppers\n",
      "Making a pizza with the following toppings:\n",
      "- cheese\n"
     ]
    }
   ],
   "source": [
    "# qno 9\n",
    "def make_pizza(*toppings):\n",
    "    print(\"Making a pizza with the following toppings:\")\n",
    "    for topping in toppings:\n",
    "        print(f\"- {topping}\")\n",
    "make_pizza('pepperoni', 'mushrooms', 'green peppers')\n",
    "make_pizza('cheese')"
   ]
  },
  {
   "cell_type": "code",
   "execution_count": null,
   "id": "d1b6846b-8071-43e1-94f2-f3d0e05eac70",
   "metadata": {},
   "outputs": [],
   "source": [
    "# qno 10\n",
    "def build_profile(first, last, **info):\n",
    "    profile = {}\n",
    "    profile['first_name'] = first\n",
    "    profile['last_name'] = last\n",
    "    for key, value in info.items():\n",
    "        profile[key] = value\n",
    "    return profile\n",
    "user_profile = build_profile(\n",
    "    'albert', 'einstein',\n",
    "    location='princeton',\n",
    "    field='physics',\n",
    "    birth_year=1879\n",
    ")\n",
    "\n",
    "print(user_profile)\n"
   ]
  }
 ],
 "metadata": {
  "kernelspec": {
   "display_name": "Python 3 (ipykernel)",
   "language": "python",
   "name": "python3"
  },
  "language_info": {
   "codemirror_mode": {
    "name": "ipython",
    "version": 3
   },
   "file_extension": ".py",
   "mimetype": "text/x-python",
   "name": "python",
   "nbconvert_exporter": "python",
   "pygments_lexer": "ipython3",
   "version": "3.12.7"
  }
 },
 "nbformat": 4,
 "nbformat_minor": 5
}
