{
 "cells": [
  {
   "cell_type": "code",
   "execution_count": null,
   "id": "e6dbbe11",
   "metadata": {},
   "outputs": [],
   "source": [
    " #EASHAL FATIMA\n",
    "#SP25-BBD-026\n"
   ]
  },
  {
   "cell_type": "code",
   "execution_count": null,
   "id": "41735bd3",
   "metadata": {},
   "outputs": [
    {
     "name": "stdout",
     "output_type": "stream",
     "text": [
      "10\n",
      "9\n",
      "8\n",
      "7\n",
      "6\n",
      "5\n",
      "4\n",
      "3\n",
      "2\n",
      "1\n",
      "Loop complete!\n"
     ]
    }
   ],
   "source": [
    "#1-Simple Countdown\n",
    "#Write a while loop to print numbers from 10 to 1, and then print \"Loop complete!\".\n",
    "count = 10\n",
    "\n",
    "while count >= 1:\n",
    "    print(count)\n",
    "    count -= 1\n",
    "\n",
    "print(\"Loop complete!\")\n"
   ]
  },
  {
   "cell_type": "code",
   "execution_count": null,
   "id": "9cc3b3af",
   "metadata": {},
   "outputs": [
    {
     "name": "stdout",
     "output_type": "stream",
     "text": [
      "2\n",
      "4\n",
      "6\n",
      "8\n",
      "10\n",
      "12\n",
      "14\n",
      "16\n",
      "18\n",
      "20\n"
     ]
    }
   ],
   "source": [
    "#2- Even Numbers Only\n",
    "# Use a while loop to print all even numbers from 2 to 20.\n",
    "num = 2\n",
    "\n",
    "while num <= 20:\n",
    "    print(num)\n",
    "    num += 2\n"
   ]
  },
  {
   "cell_type": "code",
   "execution_count": null,
   "id": "adb4ebb8",
   "metadata": {},
   "outputs": [
    {
     "name": "stdout",
     "output_type": "stream",
     "text": [
      "The sum of the first 3 natural numbers is: 6\n"
     ]
    }
   ],
   "source": [
    "#3-Sum of First N Natural Numbers\n",
    "'''Ask the user to enter a number n, and use a while loop to calculate and print the sum\n",
    "of the first n natural numbers.'''\n",
    "n = int(input(\"Enter a number: \"))\n",
    "sum = 0\n",
    "i = 1\n",
    "\n",
    "while i <= n:\n",
    "    sum += i\n",
    "    i += 1\n",
    "\n",
    "print(\"The sum of the first\", n, \"natural numbers is:\", sum)\n"
   ]
  },
  {
   "cell_type": "code",
   "execution_count": 4,
   "id": "0f1d03ec",
   "metadata": {},
   "outputs": [
    {
     "name": "stdout",
     "output_type": "stream",
     "text": [
      "Thank you!\n"
     ]
    }
   ],
   "source": [
    "#QUESTION NO 4:\n",
    "'''Basic Input Validation\n",
    "Write a while loop that keeps asking the user to enter a positive number. Once a valid\n",
    "number is entered, print \"Thank you!\".\n",
    "'''\n",
    "while True:\n",
    "    num = float(input(\"Please enter a positive number: \"))\n",
    "    if num > 0:\n",
    "        print(\"Thank you!\")\n",
    "        break\n",
    "    else:\n",
    "        print(\"That's not a positive number. Please try again.\")\n"
   ]
  },
  {
   "cell_type": "code",
   "execution_count": null,
   "id": "c31875c3",
   "metadata": {},
   "outputs": [
    {
     "name": "stdout",
     "output_type": "stream",
     "text": [
      "D\n",
      "a\n",
      "t\n",
      "a\n"
     ]
    }
   ],
   "source": [
    "#QUESTION NO 5:\n",
    "# Print Characters of a String\n",
    "#Given a string s = \"Data\", use a while loop to print each character in the string one per line.\n",
    "s = \"Data\"\n",
    "i = 0\n",
    "\n",
    "while i < len(s):\n",
    "    print(s[i])\n",
    "    i += 1\n"
   ]
  },
  {
   "cell_type": "code",
   "execution_count": 6,
   "id": "3fab8cc3",
   "metadata": {},
   "outputs": [
    {
     "name": "stdout",
     "output_type": "stream",
     "text": [
      "Incorrect password. Please try again.\n",
      "Incorrect password. Please try again.\n",
      "Incorrect password. Please try again.\n",
      "Incorrect password. Please try again.\n",
      "Access granted.\n"
     ]
    }
   ],
   "source": [
    "#QUESTION NO 6\n",
    "'''Password Retry System\n",
    "Create a program that keeps asking the user to enter a password until they get it right.\n",
    "python\n",
    "CopyEdit\n",
    "correct_password = \"analytics123\"\n",
    "If the user gets it right, print \"Access granted.\", otherwise prompt again.'''\n",
    "correct_password = \"analytics123\"\n",
    "\n",
    "while True:\n",
    "    user_input = input(\"Enter the password: \")\n",
    "    if user_input == correct_password:\n",
    "        print(\"Access granted.\")\n",
    "        break\n",
    "    else:\n",
    "        print(\"Incorrect password. Please try again.\")\n"
   ]
  },
  {
   "cell_type": "code",
   "execution_count": 7,
   "id": "fe94ba02",
   "metadata": {},
   "outputs": [
    {
     "name": "stdout",
     "output_type": "stream",
     "text": [
      "Too high.\n",
      "Congratulations! You guessed it right.\n"
     ]
    }
   ],
   "source": [
    "#QUESTION NO 7\n",
    "'''Guess the Number Game\n",
    "Write a while loop that lets the user guess a secret number (e.g., 7). The loop\n",
    "continues until the correct number is guessed. Provide hints like \"Too low\" or \"Too\n",
    "high\"'''\n",
    "secret_number = 7\n",
    "\n",
    "while True:\n",
    "    guess = int(input(\"Guess the number: \"))\n",
    "    \n",
    "    if guess < secret_number:\n",
    "        print(\"Too low.\")\n",
    "    elif guess > secret_number:\n",
    "        print(\"Too high.\")\n",
    "    else:\n",
    "        print(\"Congratulations! You guessed it right.\")\n",
    "        break\n"
   ]
  },
  {
   "cell_type": "code",
   "execution_count": 8,
   "id": "b1f7068d",
   "metadata": {},
   "outputs": [
    {
     "name": "stdout",
     "output_type": "stream",
     "text": [
      "11 has 2 digits.\n"
     ]
    }
   ],
   "source": [
    "#QUESTION NO 8:\n",
    "'''Count Digits in a Number\n",
    "Ask the user to enter a positive integer and use a while loop to count how many\n",
    "digits it has. For example, input 12345 → output: 5 digits.'''\n",
    "\n",
    "num = int(input(\"Enter a positive integer: \"))\n",
    "\n",
    "# Ensure the number is positive\n",
    "while num <= 0:\n",
    "    num = int(input(\"Please enter a positive integer: \"))\n",
    "\n",
    "count = 0\n",
    "temp = num\n",
    "\n",
    "while temp > 0:\n",
    "    temp //= 10  # Remove the last digit\n",
    "    count += 1\n",
    "\n",
    "print(f\"{num} has {count} digits.\")\n"
   ]
  },
  {
   "cell_type": "code",
   "execution_count": 9,
   "id": "ff0cb10a",
   "metadata": {},
   "outputs": [
    {
     "name": "stdout",
     "output_type": "stream",
     "text": [
      "4 x 1 = 4\n",
      "4 x 2 = 8\n",
      "4 x 3 = 12\n",
      "4 x 4 = 16\n",
      "4 x 5 = 20\n",
      "4 x 6 = 24\n",
      "4 x 7 = 28\n",
      "4 x 8 = 32\n",
      "4 x 9 = 36\n",
      "4 x 10 = 40\n"
     ]
    }
   ],
   "source": [
    "#QUESTION NO 9\n",
    "'''Multiplication Table Generator\n",
    "Ask the user to input a number, and then use a while loop to print its multiplication\n",
    "table from 1 to 10.'''\n",
    "num = int(input(\"Enter a number to generate its multiplication table: \"))\n",
    "\n",
    "i = 1\n",
    "while i <= 10:\n",
    "    print(f\"{num} x {i} = {num * i}\")\n",
    "    i += 1\n"
   ]
  },
  {
   "cell_type": "code",
   "execution_count": 10,
   "id": "d3359c10",
   "metadata": {},
   "outputs": [
    {
     "name": "stdout",
     "output_type": "stream",
     "text": [
      "The average of the entered numbers is: 5.5\n"
     ]
    }
   ],
   "source": [
    "#QUESTION NO 10:\n",
    "'''Average Until Sentinel Value\n",
    "Write a program that keeps asking the user to enter numbers until they enter -1. After\n",
    "that, print the average of the entered numbers (excluding -1).'''\n",
    "total = 0\n",
    "count = 0\n",
    "\n",
    "while True:\n",
    "    num = float(input(\"Enter a number (-1 to stop): \"))\n",
    "    \n",
    "    if num == -1:\n",
    "        break\n",
    "\n",
    "    total += num\n",
    "    count += 1\n",
    "\n",
    "if count > 0:\n",
    "    average = total / count\n",
    "    print(f\"The average of the entered numbers is: {average}\")\n",
    "else:\n",
    "    print(\"No numbers were entered.\")\n"
   ]
  }
 ],
 "metadata": {
  "kernelspec": {
   "display_name": "Python 3",
   "language": "python",
   "name": "python3"
  },
  "language_info": {
   "codemirror_mode": {
    "name": "ipython",
    "version": 3
   },
   "file_extension": ".py",
   "mimetype": "text/x-python",
   "name": "python",
   "nbconvert_exporter": "python",
   "pygments_lexer": "ipython3",
   "version": "3.12.4"
  }
 },
 "nbformat": 4,
 "nbformat_minor": 5
}
